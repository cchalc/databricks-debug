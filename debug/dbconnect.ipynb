{
 "cells": [
  {
   "cell_type": "code",
   "execution_count": 1,
   "metadata": {},
   "outputs": [
    {
     "name": "stderr",
     "output_type": "stream",
     "text": [
      "22/07/22 01:01:13 WARN NativeCodeLoader: Unable to load native-hadoop library for your platform... using builtin-java classes where applicable\n",
      "Using Spark's default log4j profile: org/apache/spark/log4j-defaults.properties\n",
      "Setting default log level to \"WARN\".\n",
      "To adjust logging level use sc.setLogLevel(newLevel). For SparkR, use setLogLevel(newLevel).\n",
      "22/07/22 01:01:14 WARN MetricsSystem: Using default name SparkStatusTracker for source because neither spark.metrics.namespace nor spark.app.id is set.\n"
     ]
    }
   ],
   "source": [
    "from pyspark.sql import SparkSession\n",
    "spark = SparkSession.builder.getOrCreate()"
   ]
  },
  {
   "cell_type": "code",
   "execution_count": 2,
   "metadata": {},
   "outputs": [],
   "source": [
    "from IPython.core.magic import line_magic, line_cell_magic, Magics, magics_class\n",
    "\n",
    "@magics_class\n",
    "class DatabricksConnectMagics(Magics):\n",
    "\n",
    "   @line_cell_magic\n",
    "   def sql(self, line, cell=None):\n",
    "       if cell and line:\n",
    "           raise ValueError(\"Line must be empty for cell magic\", line)\n",
    "       try:\n",
    "           from autovizwidget.widget.utils import display_dataframe\n",
    "       except ImportError:\n",
    "           print(\"Please run `pip install autovizwidget` to enable the visualization widget.\")\n",
    "           display_dataframe = lambda x: x\n",
    "       return display_dataframe(self.get_spark().sql(cell or line).toPandas())\n",
    "\n",
    "   def get_spark(self):\n",
    "       user_ns = get_ipython().user_ns\n",
    "       if \"spark\" in user_ns:\n",
    "           return user_ns[\"spark\"]\n",
    "       else:\n",
    "           from pyspark.sql import SparkSession\n",
    "           user_ns[\"spark\"] = SparkSession.builder.getOrCreate()\n",
    "           return user_ns[\"spark\"]\n",
    "\n",
    "ip = get_ipython()\n",
    "ip.register_magics(DatabricksConnectMagics)"
   ]
  },
  {
   "cell_type": "code",
   "execution_count": 3,
   "metadata": {},
   "outputs": [],
   "source": [
    "from pyspark.sql.types import *\n",
    "from datetime import date"
   ]
  },
  {
   "cell_type": "code",
   "execution_count": 4,
   "metadata": {},
   "outputs": [],
   "source": [
    "# Create a Spark DataFrame consisting of high and low temperatures\n",
    "# by airport code and date.\n",
    "schema = StructType([\n",
    "    StructField('AirportCode', StringType(), False),\n",
    "    StructField('Date', DateType(), False),\n",
    "    StructField('TempHighF', IntegerType(), False),\n",
    "    StructField('TempLowF', IntegerType(), False)\n",
    "])\n",
    "\n",
    "data = [\n",
    "    [ 'BLI', date(2021, 4, 3), 52, 43],\n",
    "    [ 'BLI', date(2021, 4, 2), 50, 38],\n",
    "    [ 'BLI', date(2021, 4, 1), 52, 41],\n",
    "    [ 'PDX', date(2021, 4, 3), 64, 45],\n",
    "    [ 'PDX', date(2021, 4, 2), 61, 41],\n",
    "    [ 'PDX', date(2021, 4, 1), 66, 39],\n",
    "    [ 'SEA', date(2021, 4, 3), 57, 43],\n",
    "    [ 'SEA', date(2021, 4, 2), 54, 39],\n",
    "    [ 'SEA', date(2021, 4, 1), 56, 41]\n",
    "]\n",
    "\n",
    "temps = spark.createDataFrame(data, schema)"
   ]
  },
  {
   "cell_type": "code",
   "execution_count": 5,
   "metadata": {},
   "outputs": [
    {
     "name": "stdout",
     "output_type": "stream",
     "text": [
      "View job details at https://e2-demo-field-eng.cloud.databricks.com/?o=547448167446934#/setting/clusters/0722-070458-t24q3fgi/sparkUi\n",
      "View job details at https://e2-demo-field-eng.cloud.databricks.com/?o=547448167446934#/setting/clusters/0722-070458-t24q3fgi/sparkUi\n"
     ]
    },
    {
     "name": "stderr",
     "output_type": "stream",
     "text": [
      "[Stage 7:======================================>                   (8 + 4) / 12]\r"
     ]
    }
   ],
   "source": [
    "# Create a table on the Databricks cluster and then fill\n",
    "# the table with the DataFrame's contents.\n",
    "# If the table already exists from a previous run,\n",
    "# delete it first.\n",
    "spark.sql('USE christopherchalcraft_scratch')\n",
    "spark.sql('DROP TABLE IF EXISTS demo_temps_table')\n",
    "temps.write.saveAsTable('demo_temps_table')"
   ]
  },
  {
   "cell_type": "code",
   "execution_count": 6,
   "metadata": {},
   "outputs": [
    {
     "name": "stdout",
     "output_type": "stream",
     "text": [
      "View job details at https://e2-demo-field-eng.cloud.databricks.com/?o=547448167446934#/setting/clusters/0722-070458-t24q3fgi/sparkUi\n"
     ]
    },
    {
     "name": "stderr",
     "output_type": "stream",
     "text": [
      "[Stage 8:===================>                                       (2 + 4) / 6]\r"
     ]
    },
    {
     "name": "stdout",
     "output_type": "stream",
     "text": [
      "+-----------+----------+---------+--------+\n",
      "|AirportCode|      Date|TempHighF|TempLowF|\n",
      "+-----------+----------+---------+--------+\n",
      "|        PDX|2021-04-03|       64|      45|\n",
      "|        PDX|2021-04-02|       61|      41|\n",
      "|        SEA|2021-04-03|       57|      43|\n",
      "|        SEA|2021-04-02|       54|      39|\n",
      "+-----------+----------+---------+--------+\n",
      "\n"
     ]
    }
   ],
   "source": [
    "# Query the table on the Databricks cluster, returning rows\n",
    "# where the airport code is not BLI and the date is later\n",
    "# than 2021-04-01. Group the results and order by high\n",
    "# temperature in descending order.\n",
    "df_temps = spark.sql(\"SELECT * FROM demo_temps_table \" \\\n",
    "    \"WHERE AirportCode != 'BLI' AND Date > '2021-04-01' \" \\\n",
    "    \"GROUP BY AirportCode, Date, TempHighF, TempLowF \" \\\n",
    "    \"ORDER BY TempHighF DESC\")\n",
    "df_temps.show()"
   ]
  },
  {
   "cell_type": "code",
   "execution_count": 9,
   "metadata": {},
   "outputs": [
    {
     "name": "stdout",
     "output_type": "stream",
     "text": [
      "View job details at https://e2-demo-field-eng.cloud.databricks.com/?o=547448167446934#/setting/clusters/0722-070458-t24q3fgi/sparkUi\n"
     ]
    },
    {
     "name": "stderr",
     "output_type": "stream",
     "text": [
      "[Stage 38:>                                                         (0 + 1) / 1]\r"
     ]
    }
   ],
   "source": [
    "df_temps.write.format(\"delta\").mode(\"overwrite\").save(\"/tmp/christopher.chalcraft/temp_delta\")"
   ]
  },
  {
   "cell_type": "code",
   "execution_count": 11,
   "metadata": {},
   "outputs": [
    {
     "name": "stdout",
     "output_type": "stream",
     "text": [
      "View job details at https://e2-demo-field-eng.cloud.databricks.com/?o=547448167446934#/setting/clusters/0722-070458-t24q3fgi/sparkUi\n"
     ]
    },
    {
     "data": {
      "text/plain": [
       "DataFrame[]"
      ]
     },
     "execution_count": 11,
     "metadata": {},
     "output_type": "execute_result"
    }
   ],
   "source": [
    "spark.sql(\"\"\"\n",
    "CREATE TABLE temp_delta\n",
    "USING DELTA\n",
    "LOCATION '/tmp/christopher.chalcraft/temp_delta'\n",
    "  \"\"\"\n",
    "         )"
   ]
  },
  {
   "cell_type": "code",
   "execution_count": 18,
   "metadata": {},
   "outputs": [
    {
     "data": {
      "text/plain": [
       "DataFrame[key: string, value: string]"
      ]
     },
     "execution_count": 18,
     "metadata": {},
     "output_type": "execute_result"
    }
   ],
   "source": [
    "spark.sql(\"show tblproperties temp_delta\")"
   ]
  },
  {
   "cell_type": "code",
   "execution_count": 17,
   "metadata": {},
   "outputs": [
    {
     "name": "stdout",
     "output_type": "stream",
     "text": [
      "View job details at https://e2-demo-field-eng.cloud.databricks.com/?o=547448167446934#/setting/clusters/0722-070458-t24q3fgi/sparkUi\n",
      "View job details at https://e2-demo-field-eng.cloud.databricks.com/?o=547448167446934#/setting/clusters/0722-070458-t24q3fgi/sparkUi\n"
     ]
    },
    {
     "data": {
      "application/vnd.jupyter.widget-view+json": {
       "model_id": "f2281d75fb144f098d04e525fced5cb4",
       "version_major": 2,
       "version_minor": 0
      },
      "text/plain": [
       "VBox(children=(HBox(), EncodingWidget(children=(VBox(children=(HTML(value='Encoding:'), Dropdown(description='…"
      ]
     },
     "metadata": {},
     "output_type": "display_data"
    },
    {
     "data": {
      "application/vnd.jupyter.widget-view+json": {
       "model_id": "904b22c61bbb41e4b024e89274ae4d2d",
       "version_major": 2,
       "version_minor": 0
      },
      "text/plain": [
       "Output()"
      ]
     },
     "metadata": {},
     "output_type": "display_data"
    },
    {
     "data": {
      "application/vnd.jupyter.widget-view+json": {
       "model_id": "6881c3a1fbd84daf89680beea75d6d8d",
       "version_major": 2,
       "version_minor": 0
      },
      "text/plain": [
       "AutoVizWidget()"
      ]
     },
     "metadata": {},
     "output_type": "display_data"
    }
   ],
   "source": [
    "%sql show tblproperties temp_delta"
   ]
  }
 ],
 "metadata": {
  "kernelspec": {
   "display_name": "Python 3.8.12 ('python-3.8.12': venv)",
   "language": "python",
   "name": "python3"
  },
  "language_info": {
   "codemirror_mode": {
    "name": "ipython",
    "version": 3
   },
   "file_extension": ".py",
   "mimetype": "text/x-python",
   "name": "python",
   "nbconvert_exporter": "python",
   "pygments_lexer": "ipython3",
   "version": "3.8.12"
  },
  "orig_nbformat": 4,
  "vscode": {
   "interpreter": {
    "hash": "8a44d12e11996969c24dbb422c751cad62200635780892eb22f9122affa7aa20"
   }
  }
 },
 "nbformat": 4,
 "nbformat_minor": 2
}
